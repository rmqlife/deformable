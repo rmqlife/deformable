{
 "cells": [
  {
   "cell_type": "code",
   "execution_count": 1,
   "metadata": {},
   "outputs": [
    {
     "ename": "IndexError",
     "evalue": "list index out of range",
     "output_type": "error",
     "traceback": [
      "\u001b[0;31m---------------------------------------------\u001b[0m",
      "\u001b[0;31mIndexError\u001b[0m  Traceback (most recent call last)",
      "\u001b[0;32m<ipython-input-1-3fb387ad175f>\u001b[0m in \u001b[0;36m<module>\u001b[0;34m()\u001b[0m\n\u001b[1;32m      8\u001b[0m \u001b[0mfilelist\u001b[0m \u001b[0;34m=\u001b[0m \u001b[0mget_filelist\u001b[0m\u001b[0;34m(\u001b[0m\u001b[0mhome_dir\u001b[0m\u001b[0;34m=\u001b[0m\u001b[0mhome\u001b[0m\u001b[0;34m,\u001b[0m\u001b[0mext\u001b[0m\u001b[0;34m=\u001b[0m\u001b[0;34m[\u001b[0m\u001b[0;34m'flt'\u001b[0m\u001b[0;34m]\u001b[0m\u001b[0;34m)\u001b[0m\u001b[0;34m\u001b[0m\u001b[0m\n\u001b[1;32m      9\u001b[0m \u001b[0;31m#print(filelist)\u001b[0m\u001b[0;34m\u001b[0m\u001b[0;34m\u001b[0m\u001b[0m\n\u001b[0;32m---> 10\u001b[0;31m \u001b[0mname\u001b[0m \u001b[0;34m=\u001b[0m \u001b[0mfilelist\u001b[0m\u001b[0;34m[\u001b[0m\u001b[0;36m0\u001b[0m\u001b[0;34m]\u001b[0m\u001b[0;31m#'/playpen/biao/longleaf/clothsim/source1/test1/frm1570.flt'\u001b[0m\u001b[0;34m\u001b[0m\u001b[0m\n\u001b[0m\u001b[1;32m     11\u001b[0m \u001b[0;34m\u001b[0m\u001b[0m\n\u001b[1;32m     12\u001b[0m \u001b[0;32mdef\u001b[0m \u001b[0mflt2img\u001b[0m\u001b[0;34m(\u001b[0m\u001b[0mname\u001b[0m\u001b[0;34m)\u001b[0m\u001b[0;34m:\u001b[0m\u001b[0;34m\u001b[0m\u001b[0m\n",
      "\u001b[0;31mIndexError\u001b[0m: list index out of range"
     ]
    }
   ],
   "source": [
    "import struct\n",
    "import cv2\n",
    "import matplotlib.pyplot as plt\n",
    "\n",
    "from util import *\n",
    "\n",
    "home = '/playpen/biao/longleaf/clothsim/source1/test1/'\n",
    "filelist = get_filelist(home_dir=home,ext=['flt'])\n",
    "#print(filelist)\n",
    "name = filelist[0]#'/playpen/biao/longleaf/clothsim/source1/test1/frm1570.flt'\n",
    "\n",
    "def flt2img(name):\n",
    "    f=open(name,'rb')\n",
    "    width=struct.unpack('<I',f.read(4))[0]\n",
    "    height=struct.unpack('<I',f.read(4))[0]\n",
    "    import numpy as np\n",
    "    d = np.zeros([width*height])\n",
    "    for i in range(width*height):\n",
    "        d[i]=struct.unpack('d',f.read(8))[0]\n",
    "        pass\n",
    "        #print(struct.unpack('d',f.read(8))[0])\n",
    "    d=d.reshape((height,width))\n",
    "    return d\n",
    "\n",
    "im = flt2img(name=filelist[0])\n",
    "plt.imshow(im)\n",
    "plt.show()\n",
    "cv2.imwrite(name[:-4]+'.png',d)"
   ]
  },
  {
   "cell_type": "code",
   "execution_count": 6,
   "metadata": {},
   "outputs": [],
   "source": [
    "import cv2\n",
    "import matplotlib.pyplot as plt\n",
    "import tensorflow as tf"
   ]
  }
 ],
 "metadata": {
  "kernelspec": {
   "display_name": "Python 3",
   "language": "python",
   "name": "python3"
  },
  "language_info": {
   "codemirror_mode": {
    "name": "ipython",
    "version": 3
   },
   "file_extension": ".py",
   "mimetype": "text/x-python",
   "name": "python",
   "nbconvert_exporter": "python",
   "pygments_lexer": "ipython3",
   "version": "3.6.3"
  }
 },
 "nbformat": 4,
 "nbformat_minor": 2
}
